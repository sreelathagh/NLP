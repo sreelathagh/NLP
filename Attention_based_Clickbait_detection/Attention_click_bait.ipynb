{
  "nbformat": 4,
  "nbformat_minor": 0,
  "metadata": {
    "colab": {
      "private_outputs": true,
      "provenance": []
    },
    "kernelspec": {
      "name": "python3",
      "display_name": "Python 3"
    },
    "language_info": {
      "name": "python"
    }
  },
  "cells": [
    {
      "cell_type": "code",
      "execution_count": null,
      "metadata": {
        "id": "WXiLtzJds1Ye"
      },
      "outputs": [],
      "source": [
        "import os\n",
        "import pandas as pd"
      ]
    },
    {
      "cell_type": "code",
      "source": [
        "df=pd.read_csv(\"/content/drive/MyDrive/NLP244/QUEST5/clickbait_data\", on_bad_lines='skip')"
      ],
      "metadata": {
        "id": "dfeQDhG3tD2x"
      },
      "execution_count": null,
      "outputs": []
    },
    {
      "cell_type": "code",
      "source": [
        "df.head(10)"
      ],
      "metadata": {
        "id": "p7Bl1mGKvhSV"
      },
      "execution_count": null,
      "outputs": []
    }
  ]
}